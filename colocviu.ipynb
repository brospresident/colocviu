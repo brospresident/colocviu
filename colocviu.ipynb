{
 "cells": [
  {
   "cell_type": "markdown",
   "metadata": {},
   "source": [
    "<h1>Aplicatie pentru a detecta daca un mail este spam sau nu</h1>\n",
    "\n",
    "Pentru implementarea acesteia vom folosi 2 metode. \n",
    "Clasificator binar folosind CMMP.\n",
    "Clasificator folosind Support Vector Machine.\n",
    "\n",
    "Scopul aplicatiei este de a realiza o comparatie intre cele 2 si sa observam care dintre ele este cel mai probabil sa isi dea seama de tipul mail-ului."
   ]
  },
  {
   "cell_type": "code",
   "execution_count": 1,
   "metadata": {},
   "outputs": [],
   "source": [
    "# Importarea bibliotecilor pe care le vom folosi\n",
    "import numpy as np \n",
    "import pandas as pd \n",
    "import matplotlib.pyplot as plt"
   ]
  },
  {
   "cell_type": "code",
   "execution_count": 26,
   "metadata": {},
   "outputs": [],
   "source": [
    "# Citirea fisierului cu mail-uri de intrare\n",
    "data = pd.read_csv('spam.csv', encoding = 'latin-1')\n",
    "\n",
    "# Eliminarea coloanelor de care nu este nevoie in fisier\n",
    "data = data.drop(['Unnamed: 2', 'Unnamed: 3', 'Unnamed: 4'], axis = 1)\n",
    "\n",
    "# Redenumirea coloanelor pentru a le putea folosi mai usor in label si message\n",
    "data.columns = ['label', 'message']\n",
    "\n",
    "# Inlocuirea lui ham cu 1 si spam cu -1\n",
    "data['label'] = data['label'].map({'ham': 1, 'spam': -1})\n",
    "\n",
    "messages = data['message']\n",
    "labels = data['label']"
   ]
  },
  {
   "cell_type": "code",
   "execution_count": null,
   "metadata": {},
   "outputs": [],
   "source": [
    "# Bag of words\n",
    "from sklearn.feature_extraction.text import CountVectorizer\n",
    "\n",
    "# Impartim matricea de features pe baza Bag of words\n",
    "countVec = CountVectorizer(ngram_range=(1, 1), analyzer='word')\n",
    "countData = countVec.fit_transform(messages[ : 4500])\n",
    "countData = countData.toarray()"
   ]
  },
  {
   "cell_type": "markdown",
   "metadata": {},
   "source": [
    "<h3>Rezolvam sistemul de tip Ax = b folosind CMMP.</h3>"
   ]
  },
  {
   "cell_type": "code",
   "execution_count": 56,
   "metadata": {},
   "outputs": [
    {
     "data": {
      "text/plain": [
       "array([-0.16871402, -0.45722186,  0.00427917, ...,  0.03351591,\n",
       "       -0.0082356 ,  0.98555834])"
      ]
     },
     "execution_count": 56,
     "metadata": {},
     "output_type": "execute_result"
    }
   ],
   "source": [
    "# Rezolvarea folosind functia din numpy\n",
    "n, m = countData.shape # n = numarul de linii, m = numarul de coloane\n",
    "\n",
    "# adaug o coloana plina de 1 la finalul matricei\n",
    "countData = np.append(countData, np.ones((n, 1)), axis = 1)\n",
    "leastSquare = np.linalg.lstsq(countData, labels[ : 4500], rcond=None)[0]"
   ]
  },
  {
   "cell_type": "markdown",
   "metadata": {},
   "source": [
    "<h3>Etapa de testare</h3>\n",
    "<p>In aceasta etapa vom folosi restul mailurilor ramase in datele citite si vom alege din ele pentru a testa daca mail-ul este spam sau ham.</p>"
   ]
  },
  {
   "cell_type": "code",
   "execution_count": 63,
   "metadata": {},
   "outputs": [
    {
     "name": "stdout",
     "output_type": "stream",
     "text": [
      "Mobile Club: Choose any of the top quality items for your mobile. 7cfca1a\n"
     ]
    }
   ],
   "source": [
    "testData = messages[4500 :].to_numpy()\n",
    "\n",
    "id =  int(input(\"Introduceti o valoare a unui mesaj din vector: \"))\n",
    "print(testData[id])"
   ]
  },
  {
   "cell_type": "markdown",
   "metadata": {},
   "source": [
    "<h3>Testarea clasificatorului</h3> \n",
    "<p>Aceasta etapa va prezice testLabel iar in functie de valoarea acestuia, vom determina daca un mesaj este spam sau ham.<p>\n",
    "<p>Daca testLabel o sa fie -1 atunci mesajul este spam, daca este 1 atunci este ham<p>   "
   ]
  },
  {
   "cell_type": "code",
   "execution_count": 67,
   "metadata": {},
   "outputs": [
    {
     "name": "stdout",
     "output_type": "stream",
     "text": [
      "(7804,)\n"
     ]
    },
    {
     "ename": "ValueError",
     "evalue": "shapes (1068,) and (7803,) not aligned: 1068 (dim 0) != 7803 (dim 0)",
     "output_type": "error",
     "traceback": [
      "\u001b[0;31m---------------------------------------------------------------------------\u001b[0m",
      "\u001b[0;31mValueError\u001b[0m                                Traceback (most recent call last)",
      "\u001b[0;32m/tmp/ipykernel_1087/3562294140.py\u001b[0m in \u001b[0;36m<module>\u001b[0;34m\u001b[0m\n\u001b[1;32m      1\u001b[0m \u001b[0mprint\u001b[0m\u001b[0;34m(\u001b[0m\u001b[0mleastSquare\u001b[0m\u001b[0;34m.\u001b[0m\u001b[0mshape\u001b[0m\u001b[0;34m)\u001b[0m\u001b[0;34m\u001b[0m\u001b[0;34m\u001b[0m\u001b[0m\n\u001b[0;32m----> 2\u001b[0;31m \u001b[0mtestLabel\u001b[0m \u001b[0;34m=\u001b[0m \u001b[0mnp\u001b[0m\u001b[0;34m.\u001b[0m\u001b[0mdot\u001b[0m\u001b[0;34m(\u001b[0m\u001b[0mtestData\u001b[0m\u001b[0;34m[\u001b[0m\u001b[0mid\u001b[0m \u001b[0;34m:\u001b[0m \u001b[0;34m]\u001b[0m\u001b[0;34m,\u001b[0m \u001b[0mleastSquare\u001b[0m\u001b[0;34m[\u001b[0m \u001b[0;34m:\u001b[0m \u001b[0mm\u001b[0m\u001b[0;34m]\u001b[0m\u001b[0;34m)\u001b[0m \u001b[0;34m+\u001b[0m \u001b[0mleastSquare\u001b[0m\u001b[0;34m[\u001b[0m\u001b[0mm\u001b[0m\u001b[0;34m]\u001b[0m\u001b[0;34m\u001b[0m\u001b[0;34m\u001b[0m\u001b[0m\n\u001b[0m\u001b[1;32m      3\u001b[0m \u001b[0mprint\u001b[0m\u001b[0;34m(\u001b[0m\u001b[0mtestLabel\u001b[0m\u001b[0;34m)\u001b[0m\u001b[0;34m\u001b[0m\u001b[0;34m\u001b[0m\u001b[0m\n",
      "\u001b[0;32m<__array_function__ internals>\u001b[0m in \u001b[0;36mdot\u001b[0;34m(*args, **kwargs)\u001b[0m\n",
      "\u001b[0;31mValueError\u001b[0m: shapes (1068,) and (7803,) not aligned: 1068 (dim 0) != 7803 (dim 0)"
     ]
    }
   ],
   "source": [
    "testLabel = np.dot(testData[id : ], leastSquare[ : m]) + leastSquare[m]\n",
    "print(testLabel)"
   ]
  }
 ],
 "metadata": {
  "interpreter": {
   "hash": "916dbcbb3f70747c44a77c7bcd40155683ae19c65e1c03b4aa3499c5328201f1"
  },
  "kernelspec": {
   "display_name": "Python 3.8.10 64-bit",
   "language": "python",
   "name": "python3"
  },
  "language_info": {
   "codemirror_mode": {
    "name": "ipython",
    "version": 3
   },
   "file_extension": ".py",
   "mimetype": "text/x-python",
   "name": "python",
   "nbconvert_exporter": "python",
   "pygments_lexer": "ipython3",
   "version": "3.8.10"
  },
  "orig_nbformat": 4
 },
 "nbformat": 4,
 "nbformat_minor": 2
}
