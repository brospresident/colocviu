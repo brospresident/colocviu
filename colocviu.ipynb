{
 "cells": [
  {
   "cell_type": "markdown",
   "metadata": {},
   "source": [
    "<h1>Aplicatie pentru a detecta daca un mail este spam sau nu</h1>\n",
    "\n",
    "Pentru implementarea acesteia vom folosi 2 metode. \n",
    "Clasificator binar folosind CMMP.\n",
    "Clasificator folosind Support Vector Machine.\n",
    "\n",
    "Scopul aplicatiei este de a realiza o comparatie intre cele 2 si sa observam care dintre ele este cel mai probabil sa isi dea seama de tipul mail-ului."
   ]
  },
  {
   "cell_type": "code",
   "execution_count": 37,
   "metadata": {},
   "outputs": [],
   "source": [
    "# Importarea bibliotecilor pe care le vom folosi\n",
    "import numpy as np \n",
    "import pandas as pd \n",
    "import matplotlib.pyplot as plt\n",
    "import re\n",
    "from sklearn.feature_extraction.text import CountVectorizer"
   ]
  },
  {
   "cell_type": "code",
   "execution_count": 38,
   "metadata": {},
   "outputs": [],
   "source": [
    "# Citirea fisierului cu mail-uri de intrare\n",
    "data = pd.read_csv('spam.csv', encoding = 'latin-1')\n",
    "\n",
    "# Eliminarea coloanelor de care nu este nevoie in fisier\n",
    "data = data.drop(['Unnamed: 2', 'Unnamed: 3', 'Unnamed: 4'], axis = 1)\n",
    "\n",
    "# Redenumirea coloanelor pentru a le putea folosi mai usor in label si message\n",
    "data.columns = ['label', 'message']\n",
    "\n",
    "# Inlocuirea lui ham cu 1 si spam cu -1\n",
    "data['label'] = data['label'].map({'ham': 1, 'spam': -1})\n",
    "\n",
    "messages = data['message']\n",
    "messages = messages.to_list()\n",
    "labels = data['label']"
   ]
  },
  {
   "cell_type": "markdown",
   "metadata": {},
   "source": [
    "<h1>Preprocesarea mesajelor</h1>\n",
    "<p>In aceasta etapa se vor elimina toate semnele de punctuatie din mesaje si toate cuvintele vor fi transformate in lowercase.</p>"
   ]
  },
  {
   "cell_type": "code",
   "execution_count": 39,
   "metadata": {},
   "outputs": [],
   "source": [
    "# Eliminarea punctuatiei din fiecare mesaj\n",
    "for i in range(len(messages)):\n",
    "    messages[i] = messages[i].lower()\n",
    "    messages[i] = re.sub(r'\\W', ' ', messages[i])\n",
    "    messages[i] = re.sub(r'\\s+', ' ', messages[i])\n"
   ]
  },
  {
   "cell_type": "code",
   "execution_count": 40,
   "metadata": {},
   "outputs": [
    {
     "name": "stdout",
     "output_type": "stream",
     "text": [
      "      00  000  000pes  008704050406  0089  0121  01223585236  01223585334  \\\n",
      "0      0    0       0             0     0     0            0            0   \n",
      "1      0    0       0             0     0     0            0            0   \n",
      "2      0    0       0             0     0     0            0            0   \n",
      "3      0    0       0             0     0     0            0            0   \n",
      "4      0    0       0             0     0     0            0            0   \n",
      "...   ..  ...     ...           ...   ...   ...          ...          ...   \n",
      "5567   0    0       0             0     0     0            0            0   \n",
      "5568   0    0       0             0     0     0            0            0   \n",
      "5569   0    0       0             0     0     0            0            0   \n",
      "5570   0    0       0             0     0     0            0            0   \n",
      "5571   0    0       0             0     0     0            0            0   \n",
      "\n",
      "      0125698789  02  ...  ó_  û_  û_thanks  ûªm  ûªt  ûªve  ûï  ûïharry  ûò  \\\n",
      "0              0   0  ...   0   0         0    0    0     0   0        0   0   \n",
      "1              0   0  ...   0   0         0    0    0     0   0        0   0   \n",
      "2              0   0  ...   0   0         0    0    0     0   0        0   0   \n",
      "3              0   0  ...   0   0         0    0    0     0   0        0   0   \n",
      "4              0   0  ...   0   0         0    0    0     0   0        0   0   \n",
      "...          ...  ..  ...  ..  ..       ...  ...  ...   ...  ..      ...  ..   \n",
      "5567           0   0  ...   0   0         0    0    0     0   0        0   0   \n",
      "5568           0   0  ...   0   0         0    0    0     0   0        0   0   \n",
      "5569           0   0  ...   0   0         0    0    0     0   0        0   0   \n",
      "5570           0   0  ...   0   0         0    0    0     0   0        0   0   \n",
      "5571           0   0  ...   0   0         0    0    0     0   0        0   0   \n",
      "\n",
      "      ûówell  \n",
      "0          0  \n",
      "1          0  \n",
      "2          0  \n",
      "3          0  \n",
      "4          0  \n",
      "...      ...  \n",
      "5567       0  \n",
      "5568       0  \n",
      "5569       0  \n",
      "5570       0  \n",
      "5571       0  \n",
      "\n",
      "[5572 rows x 8404 columns]\n"
     ]
    }
   ],
   "source": [
    "# Bag of words\n",
    "\n",
    "countVec = CountVectorizer(ngram_range=(1, 1), stop_words = 'english')\n",
    "countData = countVec.fit_transform(messages)\n",
    "\n",
    "# Creez dataframe\n",
    "dataFrame = pd.DataFrame(countData.toarray(), columns = countVec.get_feature_names_out())\n",
    "print(dataFrame)"
   ]
  },
  {
   "cell_type": "markdown",
   "metadata": {},
   "source": [
    "<h3>Rezolvam sistemul de tip Ax = b folosind CMMP.</h3>"
   ]
  },
  {
   "cell_type": "code",
   "execution_count": 41,
   "metadata": {},
   "outputs": [],
   "source": [
    "# Rezolvarea folosind functia din numpy\n",
    "data = countData.toarray()\n",
    "n, m = data.shape # n = numarul de linii, m = numarul de coloane\n",
    "\n",
    "# adaug o coloana plina de 1 la finalul matricei\n",
    "data = np.append(data, np.ones((n, 1)), axis = 1)\n",
    "leastSquareSol = np.linalg.lstsq(data, labels, rcond = None)[0]"
   ]
  },
  {
   "cell_type": "markdown",
   "metadata": {},
   "source": [
    "<h3>Etapa de testare</h3>\n",
    "<p>In aceasta etapa vom folosi restul mailurilor ramase in datele citite si vom alege din ele pentru a testa daca mail-ul este spam sau ham.</p>"
   ]
  },
  {
   "cell_type": "code",
   "execution_count": 67,
   "metadata": {},
   "outputs": [
    {
     "name": "stdout",
     "output_type": "stream",
     "text": [
      "u ûªve bin awarded å 50 to play 4 instant cash call 08715203028 to claim every 9th player wins min å 50 å 500 optout 08718727870\n"
     ]
    }
   ],
   "source": [
    "testData = messages[2786 : ]\n",
    "\n",
    "id =  int(input(\"Introduceti o valoare a unui mesaj din vector: \"))\n",
    "print(testData[id])"
   ]
  },
  {
   "cell_type": "markdown",
   "metadata": {},
   "source": [
    "<h3>Testarea clasificatorului</h3> \n",
    "<p>Aceasta etapa va prezice testLabel iar in functie de valoarea acestuia, vom determina daca un mesaj este spam sau ham.<p>\n",
    "<p>Daca testLabel o sa fie -1 atunci mesajul este spam, daca este 1 atunci este ham<p>   "
   ]
  },
  {
   "cell_type": "code",
   "execution_count": 68,
   "metadata": {},
   "outputs": [
    {
     "name": "stdout",
     "output_type": "stream",
     "text": [
      "Mesajul este spam\n"
     ]
    }
   ],
   "source": [
    "# Transformarea mesajului intr-un vector de numere\n",
    "sentence = testData[id]\n",
    "sentence = sentence.lower()\n",
    "sentence = re.sub(r'\\W', ' ', sentence)\n",
    "sentence = re.sub(r'\\s+', ' ', sentence)\n",
    "\n",
    "# Transformarea mesajului intr-un vector de numere\n",
    "sentence = countVec.transform([sentence])\n",
    "sentence = sentence.toarray()\n",
    "\n",
    "# Predict the label\n",
    "sentence = np.append(sentence, np.ones((1, 1)), axis = 1)\n",
    "prediction = np.dot(sentence, leastSquareSol)\n",
    "\n",
    "if (prediction > 0):\n",
    "    print(\"Mesajul \" + testData[id] + \" nu este spam\")\n",
    "else:\n",
    "    print(\"Mesajul este spam\")\n"
   ]
  }
 ],
 "metadata": {
  "interpreter": {
   "hash": "916dbcbb3f70747c44a77c7bcd40155683ae19c65e1c03b4aa3499c5328201f1"
  },
  "kernelspec": {
   "display_name": "Python 3.8.10 64-bit",
   "language": "python",
   "name": "python3"
  },
  "language_info": {
   "codemirror_mode": {
    "name": "ipython",
    "version": 3
   },
   "file_extension": ".py",
   "mimetype": "text/x-python",
   "name": "python",
   "nbconvert_exporter": "python",
   "pygments_lexer": "ipython3",
   "version": "3.8.10"
  },
  "orig_nbformat": 4
 },
 "nbformat": 4,
 "nbformat_minor": 2
}
